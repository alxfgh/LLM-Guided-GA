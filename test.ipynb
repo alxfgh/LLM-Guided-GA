{
 "cells": [
  {
   "cell_type": "code",
   "execution_count": 1,
   "metadata": {},
   "outputs": [
    {
     "name": "stdout",
     "output_type": "stream",
     "text": [
      "Requirement already satisfied: tiktoken in c:\\users\\alexg\\appdata\\local\\programs\\python\\python311\\lib\\site-packages (0.3.3)\n",
      "Requirement already satisfied: regex>=2022.1.18 in c:\\users\\alexg\\appdata\\local\\programs\\python\\python311\\lib\\site-packages (from tiktoken) (2023.3.23)\n",
      "Requirement already satisfied: requests>=2.26.0 in c:\\users\\alexg\\appdata\\local\\programs\\python\\python311\\lib\\site-packages (from tiktoken) (2.28.2)\n",
      "Requirement already satisfied: charset-normalizer<4,>=2 in c:\\users\\alexg\\appdata\\local\\programs\\python\\python311\\lib\\site-packages (from requests>=2.26.0->tiktoken) (3.0.1)\n",
      "Requirement already satisfied: idna<4,>=2.5 in c:\\users\\alexg\\appdata\\local\\programs\\python\\python311\\lib\\site-packages (from requests>=2.26.0->tiktoken) (3.4)\n",
      "Requirement already satisfied: urllib3<1.27,>=1.21.1 in c:\\users\\alexg\\appdata\\local\\programs\\python\\python311\\lib\\site-packages (from requests>=2.26.0->tiktoken) (1.26.14)\n",
      "Requirement already satisfied: certifi>=2017.4.17 in c:\\users\\alexg\\appdata\\local\\programs\\python\\python311\\lib\\site-packages (from requests>=2.26.0->tiktoken) (2022.12.7)\n",
      "Note: you may need to restart the kernel to use updated packages.\n"
     ]
    }
   ],
   "source": [
    "%pip install --upgrade tiktoken\n",
    "import tiktoken"
   ]
  },
  {
   "cell_type": "code",
   "execution_count": 3,
   "metadata": {},
   "outputs": [
    {
     "name": "stdout",
     "output_type": "stream",
     "text": [
      "100000\n",
      "200000\n",
      "300000\n",
      "400000\n",
      "500000\n",
      "600000\n",
      "700000\n",
      "800000\n",
      "900000\n",
      "1000000\n",
      "1100000\n",
      "1200000\n",
      "1300000\n",
      "1400000\n",
      "1500000\n",
      "1600000\n",
      "1700000\n",
      "1800000\n",
      "1900000\n",
      "2000000\n"
     ]
    }
   ],
   "source": [
    "import csv\n",
    "encoding = tiktoken.get_encoding(\"cl100k_base\")\n",
    "i = 0\n",
    "with open('outputSelfie_1.csv', 'r') as input_file, open('outputSelfieEmbedded_1.csv', 'w', newline='', encoding='utf-8') as output_file:\n",
    "    # create a CSV writer object\n",
    "    writer = csv.writer(output_file)\n",
    "\n",
    "    # loop over each line in the input file\n",
    "    for line in input_file:\n",
    "        i = i + 1\n",
    "        if i % 100000 == 0:\n",
    "            print(i)\n",
    "        try:\n",
    "            # encode the line\n",
    "            values = encoding.encode(line.strip())\n",
    "\n",
    "            # write the values to the output file\n",
    "            writer.writerow([values])\n",
    "        except:\n",
    "            # if an error occurs, just skip the line\n",
    "            print(f\"Error in line: {line}\")\n",
    "            continue"
   ]
  },
  {
   "cell_type": "code",
   "execution_count": 2,
   "metadata": {},
   "outputs": [
    {
     "ename": "EncoderError",
     "evalue": "input violates the currently-set semantic constraints\n\tSMILES: O=C([O-])CI(=O)=O\n\tErrors:\n\t[I with 5 bond(s) - a max. of 1 bond(s) was specified]\n",
     "output_type": "error",
     "traceback": [
      "\u001b[1;31m---------------------------------------------------------------------------\u001b[0m",
      "\u001b[1;31mEncoderError\u001b[0m                              Traceback (most recent call last)",
      "Cell \u001b[1;32mIn[2], line 12\u001b[0m\n\u001b[0;32m      9\u001b[0m \u001b[39m# loop over each line in the input file\u001b[39;00m\n\u001b[0;32m     10\u001b[0m \u001b[39mfor\u001b[39;00m line \u001b[39min\u001b[39;00m input_file:\n\u001b[0;32m     11\u001b[0m     \u001b[39m# process the line using the process_line() function\u001b[39;00m\n\u001b[1;32m---> 12\u001b[0m     values \u001b[39m=\u001b[39m sf\u001b[39m.\u001b[39;49mencoder(line\u001b[39m.\u001b[39;49mstrip())\n\u001b[0;32m     14\u001b[0m     \u001b[39m# write the values to the output file\u001b[39;00m\n\u001b[0;32m     15\u001b[0m     writer\u001b[39m.\u001b[39mwriterow([values])\n",
      "File \u001b[1;32mc:\\Users\\alexg\\Coding Projects\\LLM-Guided-GA\\.venv\\Lib\\site-packages\\selfies\\encoder.py:75\u001b[0m, in \u001b[0;36mencoder\u001b[1;34m(smiles, strict, attribute)\u001b[0m\n\u001b[0;32m     72\u001b[0m     \u001b[39mraise\u001b[39;00m EncoderError(err_msg)\n\u001b[0;32m     74\u001b[0m \u001b[39mif\u001b[39;00m strict:\n\u001b[1;32m---> 75\u001b[0m     _check_bond_constraints(mol, smiles)\n\u001b[0;32m     77\u001b[0m \u001b[39m# invert chirality of atoms where necessary,\u001b[39;00m\n\u001b[0;32m     78\u001b[0m \u001b[39m# such that they are restored when the SELFIES is decoded\u001b[39;00m\n\u001b[0;32m     79\u001b[0m \u001b[39mfor\u001b[39;00m atom \u001b[39min\u001b[39;00m mol\u001b[39m.\u001b[39mget_atoms():\n",
      "File \u001b[1;32mc:\\Users\\alexg\\Coding Projects\\LLM-Guided-GA\\.venv\\Lib\\site-packages\\selfies\\encoder.py:115\u001b[0m, in \u001b[0;36m_check_bond_constraints\u001b[1;34m(mol, smiles)\u001b[0m\n\u001b[0;32m    112\u001b[0m \u001b[39mfor\u001b[39;00m e \u001b[39min\u001b[39;00m errors:\n\u001b[0;32m    113\u001b[0m     err_msg \u001b[39m+\u001b[39m\u001b[39m=\u001b[39m \u001b[39m\"\u001b[39m\u001b[39m\\t\u001b[39;00m\u001b[39m[\u001b[39m\u001b[39m{:}\u001b[39;00m\u001b[39m with \u001b[39m\u001b[39m{}\u001b[39;00m\u001b[39m bond(s) - \u001b[39m\u001b[39m\"\u001b[39m \\\n\u001b[0;32m    114\u001b[0m                \u001b[39m\"\u001b[39m\u001b[39ma max. of \u001b[39m\u001b[39m{}\u001b[39;00m\u001b[39m bond(s) was specified]\u001b[39m\u001b[39m\\n\u001b[39;00m\u001b[39m\"\u001b[39m\u001b[39m.\u001b[39mformat(\u001b[39m*\u001b[39me)\n\u001b[1;32m--> 115\u001b[0m \u001b[39mraise\u001b[39;00m EncoderError(err_msg)\n",
      "\u001b[1;31mEncoderError\u001b[0m: input violates the currently-set semantic constraints\n\tSMILES: O=C([O-])CI(=O)=O\n\tErrors:\n\t[I with 5 bond(s) - a max. of 1 bond(s) was specified]\n"
     ]
    }
   ],
   "source": [
    "import csv\n",
    "i = 0\n",
    "# open the input and output files\n",
    "with open('output_2.csv', 'r') as input_file, open('outputSelfie_2.csv', 'w', newline='', encoding='utf-8') as output_file:\n",
    "    # Skip the header line in the input file\n",
    "    next(input_file)\n",
    "    # create a CSV writer object\n",
    "    writer = csv.writer(output_file)\n",
    "\n",
    "    # loop over each line in the input file\n",
    "    for line in input_file:\n",
    "        i = i + 1\n",
    "        if i % 1000 == 0:\n",
    "            print(i)\n",
    "        try:\n",
    "            # process the line using the process_line() function\n",
    "            values = grammar.full_encoder(Chem.MolFromSmiles(line.strip()))\n",
    "            # write the values to the output file\n",
    "            writer.writerow([values])\n",
    "        except:\n",
    "            # if an error occurs, just skip the line\n",
    "            print(f\"Error in line: {line}\")\n",
    "            continue"
   ]
  }
 ],
 "metadata": {
  "kernelspec": {
   "display_name": ".venv",
   "language": "python",
   "name": "python3"
  },
  "language_info": {
   "codemirror_mode": {
    "name": "ipython",
    "version": 3
   },
   "file_extension": ".py",
   "mimetype": "text/x-python",
   "name": "python",
   "nbconvert_exporter": "python",
   "pygments_lexer": "ipython3",
   "version": "3.11.1"
  },
  "orig_nbformat": 4
 },
 "nbformat": 4,
 "nbformat_minor": 2
}
