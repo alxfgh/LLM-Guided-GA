{
 "cells": [
  {
   "cell_type": "code",
   "execution_count": 1,
   "metadata": {},
   "outputs": [
    {
     "name": "stdout",
     "output_type": "stream",
     "text": [
      "Collecting selfies\n",
      "  Downloading selfies-2.1.1-py3-none-any.whl (35 kB)\n",
      "Installing collected packages: selfies\n",
      "Successfully installed selfies-2.1.1\n"
     ]
    }
   ],
   "source": [
    "!pip install selfies"
   ]
  },
  {
   "cell_type": "code",
   "execution_count": 2,
   "metadata": {},
   "outputs": [
    {
     "ename": "EncoderError",
     "evalue": "input violates the currently-set semantic constraints\n\tSMILES: O=C([O-])CI(=O)=O\n\tErrors:\n\t[I with 5 bond(s) - a max. of 1 bond(s) was specified]\n",
     "output_type": "error",
     "traceback": [
      "\u001b[1;31m---------------------------------------------------------------------------\u001b[0m",
      "\u001b[1;31mEncoderError\u001b[0m                              Traceback (most recent call last)",
      "Cell \u001b[1;32mIn[2], line 12\u001b[0m\n\u001b[0;32m      9\u001b[0m \u001b[39m# loop over each line in the input file\u001b[39;00m\n\u001b[0;32m     10\u001b[0m \u001b[39mfor\u001b[39;00m line \u001b[39min\u001b[39;00m input_file:\n\u001b[0;32m     11\u001b[0m     \u001b[39m# process the line using the process_line() function\u001b[39;00m\n\u001b[1;32m---> 12\u001b[0m     values \u001b[39m=\u001b[39m sf\u001b[39m.\u001b[39;49mencoder(line\u001b[39m.\u001b[39;49mstrip())\n\u001b[0;32m     14\u001b[0m     \u001b[39m# write the values to the output file\u001b[39;00m\n\u001b[0;32m     15\u001b[0m     writer\u001b[39m.\u001b[39mwriterow([values])\n",
      "File \u001b[1;32mc:\\Users\\alexg\\Coding Projects\\LLM-Guided-GA\\.venv\\Lib\\site-packages\\selfies\\encoder.py:75\u001b[0m, in \u001b[0;36mencoder\u001b[1;34m(smiles, strict, attribute)\u001b[0m\n\u001b[0;32m     72\u001b[0m     \u001b[39mraise\u001b[39;00m EncoderError(err_msg)\n\u001b[0;32m     74\u001b[0m \u001b[39mif\u001b[39;00m strict:\n\u001b[1;32m---> 75\u001b[0m     _check_bond_constraints(mol, smiles)\n\u001b[0;32m     77\u001b[0m \u001b[39m# invert chirality of atoms where necessary,\u001b[39;00m\n\u001b[0;32m     78\u001b[0m \u001b[39m# such that they are restored when the SELFIES is decoded\u001b[39;00m\n\u001b[0;32m     79\u001b[0m \u001b[39mfor\u001b[39;00m atom \u001b[39min\u001b[39;00m mol\u001b[39m.\u001b[39mget_atoms():\n",
      "File \u001b[1;32mc:\\Users\\alexg\\Coding Projects\\LLM-Guided-GA\\.venv\\Lib\\site-packages\\selfies\\encoder.py:115\u001b[0m, in \u001b[0;36m_check_bond_constraints\u001b[1;34m(mol, smiles)\u001b[0m\n\u001b[0;32m    112\u001b[0m \u001b[39mfor\u001b[39;00m e \u001b[39min\u001b[39;00m errors:\n\u001b[0;32m    113\u001b[0m     err_msg \u001b[39m+\u001b[39m\u001b[39m=\u001b[39m \u001b[39m\"\u001b[39m\u001b[39m\\t\u001b[39;00m\u001b[39m[\u001b[39m\u001b[39m{:}\u001b[39;00m\u001b[39m with \u001b[39m\u001b[39m{}\u001b[39;00m\u001b[39m bond(s) - \u001b[39m\u001b[39m\"\u001b[39m \\\n\u001b[0;32m    114\u001b[0m                \u001b[39m\"\u001b[39m\u001b[39ma max. of \u001b[39m\u001b[39m{}\u001b[39;00m\u001b[39m bond(s) was specified]\u001b[39m\u001b[39m\\n\u001b[39;00m\u001b[39m\"\u001b[39m\u001b[39m.\u001b[39mformat(\u001b[39m*\u001b[39me)\n\u001b[1;32m--> 115\u001b[0m \u001b[39mraise\u001b[39;00m EncoderError(err_msg)\n",
      "\u001b[1;31mEncoderError\u001b[0m: input violates the currently-set semantic constraints\n\tSMILES: O=C([O-])CI(=O)=O\n\tErrors:\n\t[I with 5 bond(s) - a max. of 1 bond(s) was specified]\n"
     ]
    }
   ],
   "source": [
    "import csv\n",
    "import selfies as sf\n",
    "\n",
    "# open the input and output files\n",
    "with open('pubchem-10m.txt', 'r') as input_file, open('group-selfies-10m-sfencoder.csv', 'w', newline='') as output_file:\n",
    "    # create a CSV writer object\n",
    "    writer = csv.writer(output_file)\n",
    "\n",
    "    # loop over each line in the input file\n",
    "    for line in input_file:\n",
    "        # process the line using the process_line() function\n",
    "        values = sf.encoder(line.strip())\n",
    "\n",
    "        # write the values to the output file\n",
    "        writer.writerow([values])"
   ]
  }
 ],
 "metadata": {
  "kernelspec": {
   "display_name": ".venv",
   "language": "python",
   "name": "python3"
  },
  "language_info": {
   "codemirror_mode": {
    "name": "ipython",
    "version": 3
   },
   "file_extension": ".py",
   "mimetype": "text/x-python",
   "name": "python",
   "nbconvert_exporter": "python",
   "pygments_lexer": "ipython3",
   "version": "3.11.1"
  },
  "orig_nbformat": 4
 },
 "nbformat": 4,
 "nbformat_minor": 2
}
